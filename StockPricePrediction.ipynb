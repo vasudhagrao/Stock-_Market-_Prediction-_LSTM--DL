{
 "cells": [
  {
   "cell_type": "code",
   "execution_count": 1,
   "metadata": {
    "_cell_guid": "b1076dfc-b9ad-4769-8c92-a6c4dae69d19",
    "_uuid": "8f2839f25d086af736a60e9eeb907d3b93b6e0e5"
   },
   "outputs": [
    {
     "name": "stderr",
     "output_type": "stream",
     "text": [
      "Using TensorFlow backend.\n"
     ]
    }
   ],
   "source": [
    "%matplotlib inline\n",
    "import os\n",
    "import math\n",
    "import numpy as np\n",
    "import pandas as pd\n",
    "import seaborn as sns\n",
    "import matplotlib.pylab as plt\n",
    "from matplotlib.pylab import rcParams\n",
    "from keras.models import Sequential\n",
    "from keras.layers import Dense , BatchNormalization , Dropout , Activation\n",
    "from keras.layers import LSTM , GRU\n",
    "from sklearn.preprocessing import MinMaxScaler\n",
    "from sklearn.metrics import mean_squared_error\n",
    "from keras.optimizers import Adam"
   ]
  },
  {
   "cell_type": "code",
   "execution_count": 2,
   "metadata": {},
   "outputs": [
    {
     "name": "stdout",
     "output_type": "stream",
     "text": [
      "['stock_data.csv']\n"
     ]
    }
   ],
   "source": [
    "print(os.listdir(\"input\"))"
   ]
  },
  {
   "cell_type": "code",
   "execution_count": 3,
   "metadata": {
    "_cell_guid": "79c7e3d0-c299-4dcb-8224-4455121ee9b0",
    "_uuid": "d629ff2d2480ee46fbb7e2d37f6b5fab8052498a"
   },
   "outputs": [],
   "source": [
    "df = pd.read_csv(\"input/stock_data.csv\", header=0)"
   ]
  },
  {
   "cell_type": "code",
   "execution_count": 4,
   "metadata": {
    "_uuid": "2762853aa5ed8481ed8830ff83db5dbb2f790b62"
   },
   "outputs": [
    {
     "data": {
      "text/html": [
       "<div>\n",
       "<style scoped>\n",
       "    .dataframe tbody tr th:only-of-type {\n",
       "        vertical-align: middle;\n",
       "    }\n",
       "\n",
       "    .dataframe tbody tr th {\n",
       "        vertical-align: top;\n",
       "    }\n",
       "\n",
       "    .dataframe thead th {\n",
       "        text-align: right;\n",
       "    }\n",
       "</style>\n",
       "<table border=\"1\" class=\"dataframe\">\n",
       "  <thead>\n",
       "    <tr style=\"text-align: right;\">\n",
       "      <th></th>\n",
       "      <th>date</th>\n",
       "      <th>open</th>\n",
       "      <th>high</th>\n",
       "      <th>low</th>\n",
       "      <th>close</th>\n",
       "      <th>volume</th>\n",
       "      <th>Name</th>\n",
       "    </tr>\n",
       "  </thead>\n",
       "  <tbody>\n",
       "    <tr>\n",
       "      <th>0</th>\n",
       "      <td>2013-02-08</td>\n",
       "      <td>15.07</td>\n",
       "      <td>15.12</td>\n",
       "      <td>14.63</td>\n",
       "      <td>14.75</td>\n",
       "      <td>8407500</td>\n",
       "      <td>AAL</td>\n",
       "    </tr>\n",
       "    <tr>\n",
       "      <th>1</th>\n",
       "      <td>2013-02-11</td>\n",
       "      <td>14.89</td>\n",
       "      <td>15.01</td>\n",
       "      <td>14.26</td>\n",
       "      <td>14.46</td>\n",
       "      <td>8882000</td>\n",
       "      <td>AAL</td>\n",
       "    </tr>\n",
       "    <tr>\n",
       "      <th>2</th>\n",
       "      <td>2013-02-12</td>\n",
       "      <td>14.45</td>\n",
       "      <td>14.51</td>\n",
       "      <td>14.10</td>\n",
       "      <td>14.27</td>\n",
       "      <td>8126000</td>\n",
       "      <td>AAL</td>\n",
       "    </tr>\n",
       "    <tr>\n",
       "      <th>3</th>\n",
       "      <td>2013-02-13</td>\n",
       "      <td>14.30</td>\n",
       "      <td>14.94</td>\n",
       "      <td>14.25</td>\n",
       "      <td>14.66</td>\n",
       "      <td>10259500</td>\n",
       "      <td>AAL</td>\n",
       "    </tr>\n",
       "    <tr>\n",
       "      <th>4</th>\n",
       "      <td>2013-02-14</td>\n",
       "      <td>14.94</td>\n",
       "      <td>14.96</td>\n",
       "      <td>13.16</td>\n",
       "      <td>13.99</td>\n",
       "      <td>31879900</td>\n",
       "      <td>AAL</td>\n",
       "    </tr>\n",
       "  </tbody>\n",
       "</table>\n",
       "</div>"
      ],
      "text/plain": [
       "         date   open   high    low  close    volume Name\n",
       "0  2013-02-08  15.07  15.12  14.63  14.75   8407500  AAL\n",
       "1  2013-02-11  14.89  15.01  14.26  14.46   8882000  AAL\n",
       "2  2013-02-12  14.45  14.51  14.10  14.27   8126000  AAL\n",
       "3  2013-02-13  14.30  14.94  14.25  14.66  10259500  AAL\n",
       "4  2013-02-14  14.94  14.96  13.16  13.99  31879900  AAL"
      ]
     },
     "execution_count": 4,
     "metadata": {},
     "output_type": "execute_result"
    }
   ],
   "source": [
    "df.head()"
   ]
  },
  {
   "cell_type": "code",
   "execution_count": 5,
   "metadata": {
    "_uuid": "1f279ee3c98a821d1ea290eba7868f88ff1c95dc"
   },
   "outputs": [
    {
     "name": "stdout",
     "output_type": "stream",
     "text": [
      "(619040, 7)\n"
     ]
    }
   ],
   "source": [
    "print(df.shape)"
   ]
  },
  {
   "cell_type": "code",
   "execution_count": 6,
   "metadata": {
    "_uuid": "0d36bcf55d89c1b3e84ca6d1acb7637c9e11c773"
   },
   "outputs": [
    {
     "data": {
      "text/plain": [
       "array(['AAL', 'AAPL', 'AAP', 'ABBV', 'ABC', 'ABT', 'ACN', 'ADBE', 'ADI',\n",
       "       'ADM', 'ADP', 'ADSK', 'ADS', 'AEE', 'AEP', 'AES', 'AET', 'AFL',\n",
       "       'AGN', 'AIG'], dtype=object)"
      ]
     },
     "execution_count": 6,
     "metadata": {},
     "output_type": "execute_result"
    }
   ],
   "source": [
    "df.Name.unique()[0:20]"
   ]
  },
  {
   "cell_type": "code",
   "execution_count": 7,
   "metadata": {},
   "outputs": [
    {
     "data": {
      "text/plain": [
       "date       object\n",
       "open      float64\n",
       "high      float64\n",
       "low       float64\n",
       "close     float64\n",
       "volume      int64\n",
       "Name       object\n",
       "dtype: object"
      ]
     },
     "execution_count": 7,
     "metadata": {},
     "output_type": "execute_result"
    }
   ],
   "source": [
    "df.dtypes"
   ]
  },
  {
   "cell_type": "code",
   "execution_count": 8,
   "metadata": {},
   "outputs": [
    {
     "data": {
      "text/plain": [
       "date      datetime64[ns]\n",
       "open             float64\n",
       "high             float64\n",
       "low              float64\n",
       "close            float64\n",
       "volume             int64\n",
       "Name              object\n",
       "dtype: object"
      ]
     },
     "execution_count": 8,
     "metadata": {},
     "output_type": "execute_result"
    }
   ],
   "source": [
    "df['date']=pd.to_datetime(df['date'])\n",
    "df.dtypes"
   ]
  },
  {
   "cell_type": "code",
   "execution_count": 9,
   "metadata": {},
   "outputs": [
    {
     "data": {
      "text/html": [
       "<div>\n",
       "<style scoped>\n",
       "    .dataframe tbody tr th:only-of-type {\n",
       "        vertical-align: middle;\n",
       "    }\n",
       "\n",
       "    .dataframe tbody tr th {\n",
       "        vertical-align: top;\n",
       "    }\n",
       "\n",
       "    .dataframe thead th {\n",
       "        text-align: right;\n",
       "    }\n",
       "</style>\n",
       "<table border=\"1\" class=\"dataframe\">\n",
       "  <thead>\n",
       "    <tr style=\"text-align: right;\">\n",
       "      <th></th>\n",
       "      <th>date</th>\n",
       "      <th>open</th>\n",
       "      <th>high</th>\n",
       "      <th>low</th>\n",
       "      <th>close</th>\n",
       "      <th>volume</th>\n",
       "      <th>Name</th>\n",
       "    </tr>\n",
       "  </thead>\n",
       "  <tbody>\n",
       "    <tr>\n",
       "      <th>250308</th>\n",
       "      <td>2013-02-08</td>\n",
       "      <td>390.4551</td>\n",
       "      <td>393.7283</td>\n",
       "      <td>390.1698</td>\n",
       "      <td>393.0777</td>\n",
       "      <td>6031199</td>\n",
       "      <td>GOOGL</td>\n",
       "    </tr>\n",
       "    <tr>\n",
       "      <th>250309</th>\n",
       "      <td>2013-02-11</td>\n",
       "      <td>389.5892</td>\n",
       "      <td>391.8915</td>\n",
       "      <td>387.2619</td>\n",
       "      <td>391.6012</td>\n",
       "      <td>4330781</td>\n",
       "      <td>GOOGL</td>\n",
       "    </tr>\n",
       "    <tr>\n",
       "      <th>250310</th>\n",
       "      <td>2013-02-12</td>\n",
       "      <td>391.2659</td>\n",
       "      <td>394.3440</td>\n",
       "      <td>390.0747</td>\n",
       "      <td>390.7403</td>\n",
       "      <td>3714176</td>\n",
       "      <td>GOOGL</td>\n",
       "    </tr>\n",
       "    <tr>\n",
       "      <th>250311</th>\n",
       "      <td>2013-02-13</td>\n",
       "      <td>390.4551</td>\n",
       "      <td>393.0677</td>\n",
       "      <td>390.3750</td>\n",
       "      <td>391.8214</td>\n",
       "      <td>2393946</td>\n",
       "      <td>GOOGL</td>\n",
       "    </tr>\n",
       "    <tr>\n",
       "      <th>250312</th>\n",
       "      <td>2013-02-14</td>\n",
       "      <td>390.2549</td>\n",
       "      <td>394.7644</td>\n",
       "      <td>389.2739</td>\n",
       "      <td>394.3039</td>\n",
       "      <td>3466971</td>\n",
       "      <td>GOOGL</td>\n",
       "    </tr>\n",
       "  </tbody>\n",
       "</table>\n",
       "</div>"
      ],
      "text/plain": [
       "             date      open      high       low     close   volume   Name\n",
       "250308 2013-02-08  390.4551  393.7283  390.1698  393.0777  6031199  GOOGL\n",
       "250309 2013-02-11  389.5892  391.8915  387.2619  391.6012  4330781  GOOGL\n",
       "250310 2013-02-12  391.2659  394.3440  390.0747  390.7403  3714176  GOOGL\n",
       "250311 2013-02-13  390.4551  393.0677  390.3750  391.8214  2393946  GOOGL\n",
       "250312 2013-02-14  390.2549  394.7644  389.2739  394.3039  3466971  GOOGL"
      ]
     },
     "execution_count": 9,
     "metadata": {},
     "output_type": "execute_result"
    }
   ],
   "source": [
    "company_df = df.loc[df['Name'] == 'GOOGL']\n",
    "company_df.head()"
   ]
  },
  {
   "cell_type": "code",
   "execution_count": 10,
   "metadata": {},
   "outputs": [],
   "source": [
    "company_df = company_df.drop(company_df.loc[company_df['open'].isnull()].index)"
   ]
  },
  {
   "cell_type": "code",
   "execution_count": 11,
   "metadata": {},
   "outputs": [
    {
     "data": {
      "text/plain": [
       "date      0\n",
       "open      0\n",
       "high      0\n",
       "low       0\n",
       "close     0\n",
       "volume    0\n",
       "Name      0\n",
       "dtype: int64"
      ]
     },
     "execution_count": 11,
     "metadata": {},
     "output_type": "execute_result"
    }
   ],
   "source": [
    "company_df.isnull().sum()"
   ]
  },
  {
   "cell_type": "code",
   "execution_count": 12,
   "metadata": {},
   "outputs": [
    {
     "data": {
      "image/png": "[encoded data removed]",
      "text/plain": [
       "<Figure size 1440x720 with 4 Axes>"
      ]
     },
     "metadata": {
      "needs_background": "light"
     },
     "output_type": "display_data"
    }
   ],
   "source": [
    "rcParams['figure.figsize'] = 20, 10\n",
    "fig = plt.figure()\n",
    "ax1 = fig.add_subplot(221)\n",
    "ax1 = sns.lineplot(x=\"date\", y=\"open\",\n",
    "                  markers=True, dashes=False, data=company_df)\n",
    "ax2 = fig.add_subplot(222, sharex=ax1, sharey=ax1)\n",
    "ax2 = sns.lineplot(x=\"date\", y=\"high\",\n",
    "                  markers=True, dashes=False, data=company_df)\n",
    "ax3 = fig.add_subplot(223, sharex=ax1, sharey=ax1)\n",
    "ax3 = sns.lineplot(x=\"date\", y=\"low\",\n",
    "                  markers=True, dashes=False, data=company_df)\n",
    "ax4 = fig.add_subplot(224, sharex=ax1, sharey=ax1)\n",
    "ax4 = sns.lineplot(x=\"date\", y=\"close\",\n",
    "                  markers=True, dashes=False, data=company_df)"
   ]
  },
  {
   "cell_type": "code",
   "execution_count": 13,
   "metadata": {},
   "outputs": [],
   "source": [
    "company_df=company_df[['date','open','high','low','close']]\n",
    "company_df=company_df.set_index('date')"
   ]
  },
  {
   "cell_type": "code",
   "execution_count": 14,
   "metadata": {},
   "outputs": [
    {
     "data": {
      "text/html": [
       "<div>\n",
       "<style scoped>\n",
       "    .dataframe tbody tr th:only-of-type {\n",
       "        vertical-align: middle;\n",
       "    }\n",
       "\n",
       "    .dataframe tbody tr th {\n",
       "        vertical-align: top;\n",
       "    }\n",
       "\n",
       "    .dataframe thead th {\n",
       "        text-align: right;\n",
       "    }\n",
       "</style>\n",
       "<table border=\"1\" class=\"dataframe\">\n",
       "  <thead>\n",
       "    <tr style=\"text-align: right;\">\n",
       "      <th></th>\n",
       "      <th>open</th>\n",
       "      <th>high</th>\n",
       "      <th>low</th>\n",
       "      <th>close</th>\n",
       "    </tr>\n",
       "    <tr>\n",
       "      <th>date</th>\n",
       "      <th></th>\n",
       "      <th></th>\n",
       "      <th></th>\n",
       "      <th></th>\n",
       "    </tr>\n",
       "  </thead>\n",
       "  <tbody>\n",
       "    <tr>\n",
       "      <th>2013-02-08</th>\n",
       "      <td>390.4551</td>\n",
       "      <td>393.7283</td>\n",
       "      <td>390.1698</td>\n",
       "      <td>393.0777</td>\n",
       "    </tr>\n",
       "    <tr>\n",
       "      <th>2013-02-11</th>\n",
       "      <td>389.5892</td>\n",
       "      <td>391.8915</td>\n",
       "      <td>387.2619</td>\n",
       "      <td>391.6012</td>\n",
       "    </tr>\n",
       "    <tr>\n",
       "      <th>2013-02-12</th>\n",
       "      <td>391.2659</td>\n",
       "      <td>394.3440</td>\n",
       "      <td>390.0747</td>\n",
       "      <td>390.7403</td>\n",
       "    </tr>\n",
       "    <tr>\n",
       "      <th>2013-02-13</th>\n",
       "      <td>390.4551</td>\n",
       "      <td>393.0677</td>\n",
       "      <td>390.3750</td>\n",
       "      <td>391.8214</td>\n",
       "    </tr>\n",
       "    <tr>\n",
       "      <th>2013-02-14</th>\n",
       "      <td>390.2549</td>\n",
       "      <td>394.7644</td>\n",
       "      <td>389.2739</td>\n",
       "      <td>394.3039</td>\n",
       "    </tr>\n",
       "    <tr>\n",
       "      <th>2013-02-15</th>\n",
       "      <td>394.0937</td>\n",
       "      <td>397.0266</td>\n",
       "      <td>393.9285</td>\n",
       "      <td>396.8414</td>\n",
       "    </tr>\n",
       "    <tr>\n",
       "      <th>2013-02-19</th>\n",
       "      <td>398.3930</td>\n",
       "      <td>403.9035</td>\n",
       "      <td>398.0376</td>\n",
       "      <td>403.8284</td>\n",
       "    </tr>\n",
       "    <tr>\n",
       "      <th>2013-02-20</th>\n",
       "      <td>403.0527</td>\n",
       "      <td>404.8895</td>\n",
       "      <td>396.2929</td>\n",
       "      <td>396.6262</td>\n",
       "    </tr>\n",
       "    <tr>\n",
       "      <th>2013-02-21</th>\n",
       "      <td>399.3990</td>\n",
       "      <td>403.1277</td>\n",
       "      <td>396.0056</td>\n",
       "      <td>398.1628</td>\n",
       "    </tr>\n",
       "    <tr>\n",
       "      <th>2013-02-22</th>\n",
       "      <td>400.0296</td>\n",
       "      <td>401.0256</td>\n",
       "      <td>397.2969</td>\n",
       "      <td>400.2549</td>\n",
       "    </tr>\n",
       "  </tbody>\n",
       "</table>\n",
       "</div>"
      ],
      "text/plain": [
       "                open      high       low     close\n",
       "date                                              \n",
       "2013-02-08  390.4551  393.7283  390.1698  393.0777\n",
       "2013-02-11  389.5892  391.8915  387.2619  391.6012\n",
       "2013-02-12  391.2659  394.3440  390.0747  390.7403\n",
       "2013-02-13  390.4551  393.0677  390.3750  391.8214\n",
       "2013-02-14  390.2549  394.7644  389.2739  394.3039\n",
       "2013-02-15  394.0937  397.0266  393.9285  396.8414\n",
       "2013-02-19  398.3930  403.9035  398.0376  403.8284\n",
       "2013-02-20  403.0527  404.8895  396.2929  396.6262\n",
       "2013-02-21  399.3990  403.1277  396.0056  398.1628\n",
       "2013-02-22  400.0296  401.0256  397.2969  400.2549"
      ]
     },
     "execution_count": 14,
     "metadata": {},
     "output_type": "execute_result"
    }
   ],
   "source": [
    "company_df.head(10)"
   ]
  },
  {
   "cell_type": "code",
   "execution_count": 15,
   "metadata": {},
   "outputs": [],
   "source": [
    "company_df_close = company_df[['close']]"
   ]
  },
  {
   "cell_type": "code",
   "execution_count": 16,
   "metadata": {},
   "outputs": [
    {
     "data": {
      "text/html": [
       "<div>\n",
       "<style scoped>\n",
       "    .dataframe tbody tr th:only-of-type {\n",
       "        vertical-align: middle;\n",
       "    }\n",
       "\n",
       "    .dataframe tbody tr th {\n",
       "        vertical-align: top;\n",
       "    }\n",
       "\n",
       "    .dataframe thead th {\n",
       "        text-align: right;\n",
       "    }\n",
       "</style>\n",
       "<table border=\"1\" class=\"dataframe\">\n",
       "  <thead>\n",
       "    <tr style=\"text-align: right;\">\n",
       "      <th></th>\n",
       "      <th>close</th>\n",
       "    </tr>\n",
       "    <tr>\n",
       "      <th>date</th>\n",
       "      <th></th>\n",
       "    </tr>\n",
       "  </thead>\n",
       "  <tbody>\n",
       "    <tr>\n",
       "      <th>2013-02-08</th>\n",
       "      <td>393.0777</td>\n",
       "    </tr>\n",
       "    <tr>\n",
       "      <th>2013-02-11</th>\n",
       "      <td>391.6012</td>\n",
       "    </tr>\n",
       "    <tr>\n",
       "      <th>2013-02-12</th>\n",
       "      <td>390.7403</td>\n",
       "    </tr>\n",
       "    <tr>\n",
       "      <th>2013-02-13</th>\n",
       "      <td>391.8214</td>\n",
       "    </tr>\n",
       "    <tr>\n",
       "      <th>2013-02-14</th>\n",
       "      <td>394.3039</td>\n",
       "    </tr>\n",
       "  </tbody>\n",
       "</table>\n",
       "</div>"
      ],
      "text/plain": [
       "               close\n",
       "date                \n",
       "2013-02-08  393.0777\n",
       "2013-02-11  391.6012\n",
       "2013-02-12  390.7403\n",
       "2013-02-13  391.8214\n",
       "2013-02-14  394.3039"
      ]
     },
     "execution_count": 16,
     "metadata": {},
     "output_type": "execute_result"
    }
   ],
   "source": [
    "company_df_close.head()"
   ]
  },
  {
   "cell_type": "code",
   "execution_count": 17,
   "metadata": {},
   "outputs": [],
   "source": [
    "scaler = MinMaxScaler(feature_range=(0, 1))\n",
    "stocks = scaler.fit_transform(company_df_close)"
   ]
  },
  {
   "cell_type": "code",
   "execution_count": 18,
   "metadata": {},
   "outputs": [],
   "source": [
    "train = int(len(stocks) * 0.80)\n",
    "test = len(stocks) - train"
   ]
  },
  {
   "cell_type": "code",
   "execution_count": 19,
   "metadata": {},
   "outputs": [
    {
     "name": "stdout",
     "output_type": "stream",
     "text": [
      "1007 252\n"
     ]
    }
   ],
   "source": [
    "print(train, test)"
   ]
  },
  {
   "cell_type": "code",
   "execution_count": 20,
   "metadata": {},
   "outputs": [
    {
     "name": "stdout",
     "output_type": "stream",
     "text": [
      "[[0.01210825]\n",
      " [0.01027231]\n",
      " [0.00920184]\n",
      " ...\n",
      " [0.54312253]\n",
      " [0.54497526]\n",
      " [0.55443784]]\n"
     ]
    }
   ],
   "source": [
    "train = stocks[0:train]\n",
    "print(train)"
   ]
  },
  {
   "cell_type": "code",
   "execution_count": 21,
   "metadata": {},
   "outputs": [],
   "source": [
    "test = stocks[len(train) : ]"
   ]
  },
  {
   "cell_type": "code",
   "execution_count": 22,
   "metadata": {},
   "outputs": [
    {
     "name": "stdout",
     "output_type": "stream",
     "text": [
      "(1007, 1) (252, 1)\n"
     ]
    }
   ],
   "source": [
    "print(train.shape , test.shape)"
   ]
  },
  {
   "cell_type": "markdown",
   "metadata": {
    "_uuid": "1835159a6decd67fa197e87ccba14a8706f766fb"
   },
   "source": [
    "## Building the RNN"
   ]
  },
  {
   "cell_type": "code",
   "execution_count": 23,
   "metadata": {},
   "outputs": [],
   "source": [
    "def process_data(data, n_features):\n",
    "    dataX, dataY = [], []\n",
    "    for i in range(len(data)-n_features-1):\n",
    "        a = data[i:(i+n_features), 0]\n",
    "        dataX.append(a)\n",
    "        dataY.append(data[i+n_features, 0])\n",
    "    return np.array(dataX), np.array(dataY)"
   ]
  },
  {
   "cell_type": "code",
   "execution_count": 24,
   "metadata": {},
   "outputs": [],
   "source": [
    "n_features = 2\n",
    "\n",
    "trainX, trainY = process_data(train, n_features)\n",
    "testX, testY = process_data(test, n_features)"
   ]
  },
  {
   "cell_type": "code",
   "execution_count": 25,
   "metadata": {},
   "outputs": [
    {
     "name": "stdout",
     "output_type": "stream",
     "text": [
      "(1004, 2) (1004,) (249, 2) (249,)\n"
     ]
    }
   ],
   "source": [
    "print(trainX.shape , trainY.shape , testX.shape , testY.shape)"
   ]
  },
  {
   "cell_type": "code",
   "execution_count": 26,
   "metadata": {},
   "outputs": [],
   "source": [
    "trainX = trainX.reshape(trainX.shape[0] , 1 ,trainX.shape[1])\n",
    "testX = testX.reshape(testX.shape[0] , 1 ,testX.shape[1])"
   ]
  },
  {
   "cell_type": "code",
   "execution_count": 27,
   "metadata": {},
   "outputs": [],
   "source": [
    "model = Sequential()\n",
    "model.add(GRU(256 , input_shape = (1 , n_features) , return_sequences=True))\n",
    "model.add(Dropout(0.4))\n",
    "model.add(LSTM(256))\n",
    "model.add(Dropout(0.4))\n",
    "model.add(Dense(64 ,  activation = 'relu'))\n",
    "model.add(Dense(1))"
   ]
  },
  {
   "cell_type": "code",
   "execution_count": 28,
   "metadata": {},
   "outputs": [
    {
     "name": "stdout",
     "output_type": "stream",
     "text": [
      "_________________________________________________________________\n",
      "Layer (type)                 Output Shape              Param #   \n",
      "=================================================================\n",
      "gru_1 (GRU)                  (None, 1, 256)            198912    \n",
      "_________________________________________________________________\n",
      "dropout_1 (Dropout)          (None, 1, 256)            0         \n",
      "_________________________________________________________________\n",
      "lstm_1 (LSTM)                (None, 256)               525312    \n",
      "_________________________________________________________________\n",
      "dropout_2 (Dropout)          (None, 256)               0         \n",
      "_________________________________________________________________\n",
      "dense_1 (Dense)              (None, 64)                16448     \n",
      "_________________________________________________________________\n",
      "dense_2 (Dense)              (None, 1)                 65        \n",
      "=================================================================\n",
      "Total params: 740,737\n",
      "Trainable params: 740,737\n",
      "Non-trainable params: 0\n",
      "_________________________________________________________________\n",
      "None\n"
     ]
    }
   ],
   "source": [
    "print(model.summary())"
   ]
  },
  {
   "cell_type": "code",
   "execution_count": 29,
   "metadata": {
    "_uuid": "dcb442af0e17efc84b7c6028fbda34424be19159"
   },
   "outputs": [],
   "source": [
    "model.compile(\n",
    "    loss='mean_squared_error',\n",
    "    optimizer= 'adam',\n",
    "    metrics = ['mean_squared_error']\n",
    ")"
   ]
  },
  {
   "cell_type": "code",
   "execution_count": 30,
   "metadata": {
    "_uuid": "dcb442af0e17efc84b7c6028fbda34424be19159",
    "scrolled": false
   },
   "outputs": [
    {
     "name": "stdout",
     "output_type": "stream",
     "text": [
      "Train on 1004 samples, validate on 249 samples\n",
      "Epoch 1/20\n",
      "1004/1004 [==============================] - 4s 4ms/step - loss: 0.0719 - mean_squared_error: 0.0719 - val_loss: 0.1793 - val_mean_squared_error: 0.1793\n",
      "Epoch 2/20\n",
      "1004/1004 [==============================] - 1s 585us/step - loss: 0.0137 - mean_squared_error: 0.0137 - val_loss: 9.3199e-04 - val_mean_squared_error: 9.3199e-04\n",
      "Epoch 3/20\n",
      "1004/1004 [==============================] - 1s 613us/step - loss: 0.0093 - mean_squared_error: 0.0093 - val_loss: 0.0628 - val_mean_squared_error: 0.0628\n",
      "Epoch 4/20\n",
      "1004/1004 [==============================] - 1s 602us/step - loss: 0.0071 - mean_squared_error: 0.0071 - val_loss: 0.0349 - val_mean_squared_error: 0.0349\n",
      "Epoch 5/20\n",
      "1004/1004 [==============================] - 1s 590us/step - loss: 0.0033 - mean_squared_error: 0.0033 - val_loss: 0.0015 - val_mean_squared_error: 0.0015\n",
      "Epoch 6/20\n",
      "1004/1004 [==============================] - 1s 611us/step - loss: 0.0020 - mean_squared_error: 0.0020 - val_loss: 0.0076 - val_mean_squared_error: 0.0076\n",
      "Epoch 7/20\n",
      "1004/1004 [==============================] - 1s 595us/step - loss: 0.0013 - mean_squared_error: 0.0013 - val_loss: 2.6137e-04 - val_mean_squared_error: 2.6137e-04\n",
      "Epoch 8/20\n",
      "1004/1004 [==============================] - 1s 602us/step - loss: 9.9866e-04 - mean_squared_error: 9.9866e-04 - val_loss: 4.0713e-04 - val_mean_squared_error: 4.0713e-04\n",
      "Epoch 9/20\n",
      "1004/1004 [==============================] - 1s 583us/step - loss: 9.8383e-04 - mean_squared_error: 9.8383e-04 - val_loss: 3.5894e-04 - val_mean_squared_error: 3.5894e-04\n",
      "Epoch 10/20\n",
      "1004/1004 [==============================] - 1s 662us/step - loss: 8.9125e-04 - mean_squared_error: 8.9125e-04 - val_loss: 6.2642e-04 - val_mean_squared_error: 6.2642e-04\n",
      "Epoch 11/20\n",
      "1004/1004 [==============================] - 1s 582us/step - loss: 7.7442e-04 - mean_squared_error: 7.7442e-04 - val_loss: 3.0506e-04 - val_mean_squared_error: 3.0506e-04\n",
      "Epoch 12/20\n",
      "1004/1004 [==============================] - 1s 582us/step - loss: 7.8186e-04 - mean_squared_error: 7.8186e-04 - val_loss: 2.8119e-04 - val_mean_squared_error: 2.8119e-04\n",
      "Epoch 13/20\n",
      "1004/1004 [==============================] - 1s 587us/step - loss: 7.7308e-04 - mean_squared_error: 7.7308e-04 - val_loss: 2.8919e-04 - val_mean_squared_error: 2.8919e-04\n",
      "Epoch 14/20\n",
      "1004/1004 [==============================] - 1s 579us/step - loss: 7.8750e-04 - mean_squared_error: 7.8750e-04 - val_loss: 2.6917e-04 - val_mean_squared_error: 2.6917e-04\n",
      "Epoch 15/20\n",
      "1004/1004 [==============================] - 1s 587us/step - loss: 7.8845e-04 - mean_squared_error: 7.8845e-04 - val_loss: 2.6390e-04 - val_mean_squared_error: 2.6390e-04\n",
      "Epoch 16/20\n",
      "1004/1004 [==============================] - 1s 572us/step - loss: 8.0266e-04 - mean_squared_error: 8.0266e-04 - val_loss: 2.6453e-04 - val_mean_squared_error: 2.6453e-04\n",
      "Epoch 17/20\n",
      "1004/1004 [==============================] - 1s 593us/step - loss: 7.4849e-04 - mean_squared_error: 7.4849e-04 - val_loss: 2.6643e-04 - val_mean_squared_error: 2.6643e-04\n",
      "Epoch 18/20\n",
      "1004/1004 [==============================] - 1s 559us/step - loss: 7.3403e-04 - mean_squared_error: 7.3403e-04 - val_loss: 4.6562e-04 - val_mean_squared_error: 4.6562e-04\n",
      "Epoch 19/20\n",
      "1004/1004 [==============================] - 1s 572us/step - loss: 6.5890e-04 - mean_squared_error: 6.5890e-04 - val_loss: 2.6663e-04 - val_mean_squared_error: 2.6663e-04\n",
      "Epoch 20/20\n",
      "1004/1004 [==============================] - 1s 573us/step - loss: 6.8110e-04 - mean_squared_error: 6.8110e-04 - val_loss: 2.6561e-04 - val_mean_squared_error: 2.6561e-04\n"
     ]
    },
    {
     "data": {
      "text/plain": [
       "<keras.callbacks.History at 0x1e9e9758f98>"
      ]
     },
     "execution_count": 30,
     "metadata": {},
     "output_type": "execute_result"
    }
   ],
   "source": [
    "model.fit(\n",
    "    trainX,\n",
    "    trainY,\n",
    "    epochs=20,\n",
    "    batch_size= 128,\n",
    "    validation_data= (testX,testY)\n",
    ")"
   ]
  },
  {
   "cell_type": "code",
   "execution_count": 31,
   "metadata": {},
   "outputs": [],
   "source": [
    "def model_score(model, X_train, y_train, X_test, y_test):\n",
    "    trainScore = model.evaluate(X_train, y_train, verbose=0)\n",
    "    print('Train Score: %.5f MSE (%.2f RMSE)' % (trainScore[0], math.sqrt(trainScore[0])))\n",
    "    testScore = model.evaluate(X_test, y_test, verbose=0)\n",
    "    print('Test Score: %.5f MSE (%.2f RMSE)' % (testScore[0], math.sqrt(testScore[0])))\n",
    "    return trainScore[0], testScore[0]"
   ]
  },
  {
   "cell_type": "code",
   "execution_count": 32,
   "metadata": {},
   "outputs": [
    {
     "name": "stdout",
     "output_type": "stream",
     "text": [
      "Train Score: 0.00016 MSE (0.01 RMSE)\n",
      "Test Score: 0.00027 MSE (0.02 RMSE)\n"
     ]
    },
    {
     "data": {
      "text/plain": [
       "(0.00016341729247775597, 0.00026560847971954915)"
      ]
     },
     "execution_count": 32,
     "metadata": {},
     "output_type": "execute_result"
    }
   ],
   "source": [
    "model_score(model, trainX, trainY , testX, testY)"
   ]
  },
  {
   "cell_type": "code",
   "execution_count": 33,
   "metadata": {},
   "outputs": [
    {
     "data": {
      "text/plain": [
       "array([[827.17926],\n",
       "       [829.73926],\n",
       "       [834.203  ],\n",
       "       [836.7656 ],\n",
       "       [835.8896 ],\n",
       "       [837.0686 ],\n",
       "       [841.70355],\n",
       "       [845.25226],\n",
       "       [847.6637 ],\n",
       "       [848.50085]], dtype=float32)"
      ]
     },
     "execution_count": 33,
     "metadata": {},
     "output_type": "execute_result"
    }
   ],
   "source": [
    "pred = model.predict(testX)\n",
    "pred = scaler.inverse_transform(pred)\n",
    "pred[:10]"
   ]
  },
  {
   "cell_type": "code",
   "execution_count": 34,
   "metadata": {},
   "outputs": [
    {
     "data": {
      "text/plain": [
       "array([[834.85],\n",
       "       [838.96],\n",
       "       [840.03],\n",
       "       [837.32],\n",
       "       [842.17],\n",
       "       [846.55],\n",
       "       [849.27],\n",
       "       [851.36],\n",
       "       [851.  ],\n",
       "       [847.81]])"
      ]
     },
     "execution_count": 34,
     "metadata": {},
     "output_type": "execute_result"
    }
   ],
   "source": [
    "testY = testY.reshape(testY.shape[0] , 1)\n",
    "testY = scaler.inverse_transform(testY)\n",
    "testY[:10]"
   ]
  },
  {
   "cell_type": "markdown",
   "metadata": {},
   "source": [
    "# Done"
   ]
  },
  {
   "cell_type": "code",
   "execution_count": null,
   "metadata": {},
   "outputs": [],
   "source": []
  }
 ],
 "metadata": {
  "kernelspec": {
   "display_name": "Python 3",
   "language": "python",
   "name": "python3"
  },
  "language_info": {
   "codemirror_mode": {
    "name": "ipython",
    "version": 3
   },
   "file_extension": ".py",
   "mimetype": "text/x-python",
   "name": "python",
   "nbconvert_exporter": "python",
   "pygments_lexer": "ipython3",
   "version": "3.6.6"
  }
 },
 "nbformat": 4,
 "nbformat_minor": 1
}
